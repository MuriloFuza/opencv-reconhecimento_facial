{
 "cells": [
  {
   "cell_type": "code",
   "execution_count": 90,
   "metadata": {},
   "outputs": [],
   "source": [
    "import cv2\n",
    "import os\n",
    "import numpy as np"
   ]
  },
  {
   "cell_type": "code",
   "execution_count": 91,
   "metadata": {},
   "outputs": [
    {
     "name": "stdout",
     "output_type": "stream",
     "text": [
      "training...\n",
      "\n",
      "\n",
      "success!\n"
     ]
    }
   ],
   "source": [
    "\"\"\"eigenface = cv2.face.EigenFaceRecognizer_create(threshold=2, num_components=50)\n",
    "fisherface = cv2.face.FisherFaceRecognizer_create() \"\"\"\n",
    "lbph = cv2.face.LBPHFaceRecognizer_create(1, 4, 2, 2,70)\n",
    "\n",
    "def getImageId():\n",
    "  paths = [os.path.join('images', f) for f in os.listdir('images')]\n",
    "\n",
    "  faces = []\n",
    "  ids = []\n",
    "  \n",
    "  for path_img  in paths:\n",
    "    img_face = cv2.cvtColor(cv2.imread(path_img), cv2.COLOR_BGR2GRAY)\n",
    "    id = int(os.path.split(path_img)[-1].split('.')[1])\n",
    "    ids.append(id)\n",
    "    faces.append(img_face)\n",
    "    \n",
    "  return np.array(ids), faces\n",
    "\n",
    "ids, faces = getImageId()\n",
    "\n",
    "print(\"training...\\n\")\n",
    "\"\"\"\n",
    "eigenface.train(faces, ids)\n",
    "eigenface.write('declarantEigen.yml')\n",
    "\n",
    "fisherface.train(faces, ids)\n",
    "fisherface.write('declarantFisher.yml')\n",
    " \"\"\"\n",
    "lbph.train(faces, ids)\n",
    "lbph.write('declarantLBPH.yml')\n",
    "\n",
    "print(\"\\nsuccess!\")"
   ]
  }
 ],
 "metadata": {
  "kernelspec": {
   "display_name": "Python 3.9.13 ('ia')",
   "language": "python",
   "name": "python3"
  },
  "language_info": {
   "codemirror_mode": {
    "name": "ipython",
    "version": 3
   },
   "file_extension": ".py",
   "mimetype": "text/x-python",
   "name": "python",
   "nbconvert_exporter": "python",
   "pygments_lexer": "ipython3",
   "version": "3.9.13"
  },
  "orig_nbformat": 4,
  "vscode": {
   "interpreter": {
    "hash": "0efc910047d583b99d9e7651df7a2b28cebe9637d5238b0f6e5350254de8f032"
   }
  }
 },
 "nbformat": 4,
 "nbformat_minor": 2
}
